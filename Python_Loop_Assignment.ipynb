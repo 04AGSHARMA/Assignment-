{
 "cells": [
  {
   "cell_type": "code",
   "execution_count": 1,
   "id": "409f2afc-76ac-47a3-b679-7efdd778b09a",
   "metadata": {},
   "outputs": [
    {
     "name": "stdout",
     "output_type": "stream",
     "text": [
      "welcome to Python\n"
     ]
    }
   ],
   "source": [
    "print('welcome to Python')"
   ]
  },
  {
   "cell_type": "code",
   "execution_count": 2,
   "id": "e126110c-f841-4690-9db2-d20d7e8ae01d",
   "metadata": {},
   "outputs": [],
   "source": [
    "# Q1. Explain with an example each when to use a for loop and a while loop.\n",
    "A for loop is ideal when you want to iterate over a sequence of elements, such as a list, tuple, or string.\n",
    "A while loop is ideal when you want to repeat a block of code until a specific condition is met. The condition is evaluated at the beginning of each iteration.\n"
   ]
  },
  {
   "cell_type": "code",
   "execution_count": 13,
   "id": "56ccf6e5-c802-4cb0-8290-cec856481820",
   "metadata": {},
   "outputs": [
    {
     "name": "stdout",
     "output_type": "stream",
     "text": [
      "Sum and Product of first 10 natural numbers is 55 3628800\n"
     ]
    }
   ],
   "source": [
    "# Q2. Write a python program to print the sum and product of the first 10 natural numbers using for and while loop.\n",
    "sum=0\n",
    "product=1\n",
    "for i in range(1,11):\n",
    "    product = product*i\n",
    "    sum =sum+i\n",
    "    \n",
    "print('Sum and Product of first 10 natural numbers is',sum, product)"
   ]
  },
  {
   "cell_type": "code",
   "execution_count": 18,
   "id": "4b41e6da-b1f6-4305-97af-649cb1c069af",
   "metadata": {},
   "outputs": [
    {
     "name": "stdout",
     "output_type": "stream",
     "text": [
      "Sum and Product of first 10 natural numbers is 55 3628800\n"
     ]
    }
   ],
   "source": [
    "while i==1:\n",
    "    product = product*i\n",
    "    sum =sum+i\n",
    "    i+=1\n",
    "print('Sum and Product of first 10 natural numbers is',sum, product)"
   ]
  },
  {
   "cell_type": "code",
   "execution_count": 49,
   "id": "1ac988c1-40e5-497e-9305-d46424416610",
   "metadata": {},
   "outputs": [
    {
     "name": "stdin",
     "output_type": "stream",
     "text": [
      "Enter number of units consumed 310\n"
     ]
    },
    {
     "name": "stdout",
     "output_type": "stream",
     "text": [
      "Total Electric bill is 2250.0\n"
     ]
    }
   ],
   "source": [
    "\n",
    "# Q3. Create a python program to compute the electricity bill for a household.\n",
    "# The per-unit charges in rupees are as follows: For the first 100 units, the user will be charged Rs. 4.5 per\n",
    "# unit, for the next 100 units, the user will be charged Rs. 6 per unit, and for the next 100 units, the user will\n",
    "# be charged Rs. 10 per unit, After 300 units and above the user will be charged Rs. 20 per unit.\n",
    "# You are required to take the units of electricity consumed in a month from the user as input.\n",
    "# Your program must pass this test case: when the unit of electricity consumed by the user in a month is\n",
    "# 310, the total electricity bill should be 2250.\n",
    "\n",
    "# electricity_bill_amount=1\n",
    "def bill_calculator(unit_consumed):\n",
    "    electricity_bill_amount=1\n",
    "    if unit_consumed <= 100 :\n",
    "        electricity_bill_amount = unit_consumed * 4.5\n",
    "        print('Electric bill is',electricity_bill_amount)\n",
    "    # break\n",
    "    if unit_consumed > 100 and unit_consumed <=200:\n",
    "        electricity_bill_amount = (100*4.5) + 6 * (unit_consumed-100)\n",
    "        print('Electric bill is',electricity_bill_amount)\n",
    "    if unit_consumed > 200 and unit_consumed <=300:\n",
    "        electricity_bill_amount = (100*4.5) + (6 * 100) + 10 *(unit_consumed-200)\n",
    "        print('Electric bill is',electricity_bill_amount)\n",
    "    else:\n",
    "        electricity_bill_amount = (100*4.5) + (6 * 100) + (10 *100) + 20*(unit_consumed-300)\n",
    "        print('Total Electric bill is',electricity_bill_amount)\n",
    "\n",
    "unit_consumed=int(input('Enter number of units consumed'))\n",
    "bill_calculator(unit_consumed)\n",
    "        \n"
   ]
  },
  {
   "cell_type": "code",
   "execution_count": 54,
   "id": "53603ebd-d02c-4bb0-ae6e-9b038d098401",
   "metadata": {},
   "outputs": [
    {
     "name": "stdout",
     "output_type": "stream",
     "text": [
      "List of Numbers from 1 to 100 [1, 2, 3, 4, 5, 6, 7, 8, 9, 10, 11, 12, 13, 14, 15, 16, 17, 18, 19, 20, 21, 22, 23, 24, 25, 26, 27, 28, 29, 30, 31, 32, 33, 34, 35, 36, 37, 38, 39, 40, 41, 42, 43, 44, 45, 46, 47, 48, 49, 50, 51, 52, 53, 54, 55, 56, 57, 58, 59, 60, 61, 62, 63, 64, 65, 66, 67, 68, 69, 70, 71, 72, 73, 74, 75, 76, 77, 78, 79, 80, 81, 82, 83, 84, 85, 86, 87, 88, 89, 90, 91, 92, 93, 94, 95, 96, 97, 98, 99, 100]\n",
      "List of cube of Numbers from 1 to 100 :  [1, 8, 27, 64, 125, 216, 343, 512, 729, 1000, 1331, 1728, 2197, 2744, 3375, 4096, 4913, 5832, 6859, 8000, 9261, 10648, 12167, 13824, 15625, 17576, 19683, 21952, 24389, 27000, 29791, 32768, 35937, 39304, 42875, 46656, 50653, 54872, 59319, 64000, 68921, 74088, 79507, 85184, 91125, 97336, 103823, 110592, 117649, 125000, 132651, 140608, 148877, 157464, 166375, 175616, 185193, 195112, 205379, 216000, 226981, 238328, 250047, 262144, 274625, 287496, 300763, 314432, 328509, 343000, 357911, 373248, 389017, 405224, 421875, 438976, 456533, 474552, 493039, 512000, 531441, 551368, 571787, 592704, 614125, 636056, 658503, 681472, 704969, 729000, 753571, 778688, 804357, 830584, 857375, 884736, 912673, 941192, 970299, 1000000]\n",
      "List of cube of number divisible by 4 and 5 is : [5, 15, 25, 35, 45, 55, 65, 75, 85, 95]\n"
     ]
    }
   ],
   "source": [
    "# Q4. Create a list of numbers from 1 to 100. Use for loop and while loop to calculate the cube of each\n",
    "# number and if the cube of that number is divisible by 4 or 5 then append that number in a list and print\n",
    "# that list.\n",
    "\n",
    "list=[]\n",
    "list_div_4_5 = []\n",
    "for i in range(1,101):\n",
    "    list.append(i)\n",
    "print('List of Numbers from 1 to 100',list)\n",
    "for i in list:\n",
    "    list_cube = [i**3 for i in list]\n",
    "    if (i**3 %4) and (i**3 %5) == 0:\n",
    "        list_div_4_5.append(i)\n",
    "print('List of cube of Numbers from 1 to 100 : ',list_cube)\n",
    "print('List of cube of number divisible by 4 and 5 is :',list_div_4_5)"
   ]
  },
  {
   "cell_type": "code",
   "execution_count": 56,
   "id": "cd0304a2-deeb-4f73-964b-3c997da509aa",
   "metadata": {},
   "outputs": [
    {
     "name": "stdout",
     "output_type": "stream",
     "text": [
      "Number of vowels in Given string is : 11\n"
     ]
    }
   ],
   "source": [
    "# Q5. Write a program to filter count vowels in the below-given string. \n",
    "string = \"I want to become a data scientist\"\n",
    "count_vowels=0\n",
    "for i in string:\n",
    "    if (i=='a' or i=='e' or i=='i' or i=='o' or i=='u'):\n",
    "        count_vowels +=1\n",
    "print('Number of vowels in Given string is :',count_vowels)"
   ]
  },
  {
   "cell_type": "code",
   "execution_count": null,
   "id": "4950a53e-378e-4e34-8d8c-dafc017a4045",
   "metadata": {},
   "outputs": [],
   "source": []
  },
  {
   "cell_type": "code",
   "execution_count": null,
   "id": "0c838662-ea4e-4e3c-bfaf-f18f19fecc6e",
   "metadata": {},
   "outputs": [],
   "source": []
  },
  {
   "cell_type": "code",
   "execution_count": null,
   "id": "84bb899b-63a5-4d54-9ffc-de1b98193c98",
   "metadata": {},
   "outputs": [],
   "source": []
  }
 ],
 "metadata": {
  "kernelspec": {
   "display_name": "Python 3 (ipykernel)",
   "language": "python",
   "name": "python3"
  },
  "language_info": {
   "codemirror_mode": {
    "name": "ipython",
    "version": 3
   },
   "file_extension": ".py",
   "mimetype": "text/x-python",
   "name": "python",
   "nbconvert_exporter": "python",
   "pygments_lexer": "ipython3",
   "version": "3.10.8"
  }
 },
 "nbformat": 4,
 "nbformat_minor": 5
}
