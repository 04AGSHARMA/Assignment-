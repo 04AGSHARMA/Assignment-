{
 "cells": [
  {
   "cell_type": "code",
   "execution_count": 5,
   "id": "689de860",
   "metadata": {},
   "outputs": [],
   "source": [
    "# Q1. Create one variable containing following type of data:\n",
    "# (i) string\n",
    "# (ii) list\n",
    "# (iii) float\n",
    "# (iv) tuple\n",
    "\n",
    "\n",
    "a='Name'      #string data type\n",
    "b=[2,4,6,8]   #list data type\n",
    "c= 6.0        # float\n",
    "d=(2,3,4,5)   # tuple\n"
   ]
  },
  {
   "cell_type": "code",
   "execution_count": 11,
   "id": "e835a43e",
   "metadata": {},
   "outputs": [
    {
     "name": "stdout",
     "output_type": "stream",
     "text": [
      "Data type of var1 is: string <class 'str'>\n",
      "Data type of var2 is: string <class 'str'>\n",
      "Data type of var3 is: list <class 'list'>\n",
      "Data type of var4 is:int <class 'int'>\n"
     ]
    }
   ],
   "source": [
    "# Q2. Given are some following variables containing data:\n",
    "# (i) var1 = ‘ ‘\n",
    "var1 = ''    # Data type is string\n",
    "print('Data type of var1 is: string',type(var1))\n",
    "\n",
    "# (ii) var2 = ‘[ DS , ML , Python]’\n",
    "var2 = '[ DS , ML , Python]'    # Data type is string\n",
    "print('Data type of var2 is: string',type(var2))\n",
    "# (iii) var3 = [ ‘DS’ , ’ML’ , ‘Python’ ]\n",
    "var3 = [ 'DS' , 'ML' , 'Python' ]   # Data type is list\n",
    "print('Data type of var3 is: list',type(var3))\n",
    "# (iv) var4 = 1.\n",
    "var4 = 1   # Data type is int\n",
    "print('Data type of var4 is:int',type(var4))"
   ]
  },
  {
   "cell_type": "code",
   "execution_count": 18,
   "id": "6beea053",
   "metadata": {},
   "outputs": [
    {
     "name": "stdout",
     "output_type": "stream",
     "text": [
      "/ Operator devides a with b as we put a/b and gives output: 6.0\n",
      "The output after % between a and b is :  0\n",
      "The output after // between a and b is :  5\n",
      "256\n"
     ]
    }
   ],
   "source": [
    "# Q3. Explain the use of the following operators using an example:\n",
    "# (i) /\n",
    "'''The Operator (/) is used for performing divide operation between terms e.g, (A/B) '''\n",
    "\n",
    "a=30\n",
    "b=5\n",
    "print('/ Operator devides a with b as we put a/b and gives output:',a/b)\n",
    "\n",
    "\n",
    "# (ii) %\n",
    "\n",
    "''' The Operator (%) is modulus division used for performing divide operation between terms e.g, (A/B) and get its remainder obtained'''\n",
    "print('The output after % between a and b is : ',a%b)\n",
    "# (iii) //\n",
    "'The Operator (//) is floor division used for perfprming the floor division i.e. // rounds the result down to the nearest whole number'\n",
    "a=35\n",
    "b=6\n",
    "print('The output after // between a and b is : ',a//b)\n",
    "# (iv) **\n",
    "'The ** operatior is said to be Exponential Multiplication operator i.e. it can work like multiplication to the power'\n",
    "'Suppose we want to perform 2 to power 8 we can make use of exponential operator like following'\n",
    "print(2**8)"
   ]
  },
  {
   "cell_type": "code",
   "execution_count": 23,
   "id": "45eaafe5",
   "metadata": {},
   "outputs": [
    {
     "name": "stdout",
     "output_type": "stream",
     "text": [
      "Element in List is: 2 its data type is: <class 'int'>\n",
      "Element in List is: 4 its data type is: <class 'int'>\n",
      "Element in List is: 5.0 its data type is: <class 'float'>\n",
      "Element in List is: New its data type is: <class 'str'>\n",
      "Element in List is: OLD its data type is: <class 'str'>\n",
      "Element in List is: 45 its data type is: <class 'int'>\n",
      "Element in List is: 6.0 its data type is: <class 'float'>\n",
      "Element in List is: [1, 2, 3] its data type is: <class 'list'>\n",
      "Element in List is: (4, 5, 6) its data type is: <class 'tuple'>\n",
      "Element in List is: TEN its data type is: <class 'str'>\n"
     ]
    }
   ],
   "source": [
    "'''Q4. Create a list of length 10 of your choice containing multiple types of data. Using for loop print the\n",
    "element and its data type.'''\n",
    "\n",
    "l1=[2,4,5.0,'New','OLD',45,6.0,[1,2,3],(4,5,6),'TEN']\n",
    "for i in l1:\n",
    "    print('Element in List is:',i,'its data type is:',type(i))"
   ]
  },
  {
   "cell_type": "code",
   "execution_count": null,
   "id": "d7159974",
   "metadata": {},
   "outputs": [],
   "source": [
    "'''Q5. Using a while loop, verify if the number A is purely divisible by number B and if so then how many times it can be divisible.'''\n",
    "\n",
    "\n",
    "# get the input values of A and B\n",
    "A = int(input(\"Enter the first number (dividend): \"))\n",
    "B = int(input(\"Enter the second number (divisor): \"))\n",
    "\n",
    "# initialize the counter variable to 0\n",
    "count = 0\n",
    "\n",
    "# loop while B divides A with no remainder\n",
    "while A % B == 0:\n",
    "    # increment the counter\n",
    "    count += 1\n",
    "    # divide A by B to get a new value for A\n",
    "    A = A // B\n",
    "\n",
    "# check if the counter was incremented at least once\n",
    "if count > 0:\n",
    "    print(f\"{A} is divisible by {B} {count} times\")\n",
    "else:\n",
    "    print(f\"{A} is not divisible by {B}\")"
   ]
  },
  {
   "cell_type": "code",
   "execution_count": 27,
   "id": "f0f919c5",
   "metadata": {},
   "outputs": [
    {
     "name": "stdout",
     "output_type": "stream",
     "text": [
      "21 is divisible by 3\n",
      "29 is not divisible by 3\n",
      "24 is divisible by 3\n",
      "1 is not divisible by 3\n",
      "17 is not divisible by 3\n",
      "10 is not divisible by 3\n",
      "28 is not divisible by 3\n",
      "1 is not divisible by 3\n",
      "6 is divisible by 3\n",
      "16 is not divisible by 3\n",
      "29 is not divisible by 3\n",
      "6 is divisible by 3\n",
      "13 is not divisible by 3\n",
      "23 is not divisible by 3\n",
      "26 is not divisible by 3\n",
      "20 is not divisible by 3\n",
      "2 is not divisible by 3\n",
      "3 is divisible by 3\n",
      "1 is not divisible by 3\n",
      "19 is not divisible by 3\n",
      "20 is not divisible by 3\n",
      "23 is not divisible by 3\n",
      "1 is not divisible by 3\n",
      "1 is not divisible by 3\n",
      "1 is not divisible by 3\n"
     ]
    }
   ],
   "source": [
    "'''Q6. Create a list containing 25 int type data. Using for loop and if-else condition print if the element is\n",
    "divisible by 3 or not.'''\n",
    "\n",
    "l1=[21, 29, 24,  1, 17, 10, 28,  1,  6, 16, 29,  6, 13, 23, 26, 20,  2,  3,  1, 19, 20, 23,  1,  1,  1]\n",
    "\n",
    "for i in l1:\n",
    "    if i %3==0:\n",
    "        print(f'{i} is divisible by 3')\n",
    "    else:\n",
    "        print(f'{i} is not divisible by 3')\n",
    "\n"
   ]
  },
  {
   "cell_type": "code",
   "execution_count": null,
   "id": "9f6db28c",
   "metadata": {},
   "outputs": [],
   "source": [
    "'''Q7. What do you understand about mutable and immutable data types? Give examples for both showing this property.'''\n",
    "\n",
    "'''Mutable data types in python are those which can be changed, once created but immutable objects are those which cannot be changed, once they are instantiated.\n",
    "Example of mutable data types are list, dictionary, set, user-defined classes.\n",
    "whereas examples of Immutable datatypes or objects are int, float, string, bool, tuple.'''"
   ]
  },
  {
   "cell_type": "code",
   "execution_count": null,
   "id": "ebb52209",
   "metadata": {},
   "outputs": [],
   "source": []
  }
 ],
 "metadata": {
  "kernelspec": {
   "display_name": "Python 3 (ipykernel)",
   "language": "python",
   "name": "python3"
  },
  "language_info": {
   "codemirror_mode": {
    "name": "ipython",
    "version": 3
   },
   "file_extension": ".py",
   "mimetype": "text/x-python",
   "name": "python",
   "nbconvert_exporter": "python",
   "pygments_lexer": "ipython3",
   "version": "3.9.7"
  }
 },
 "nbformat": 4,
 "nbformat_minor": 5
}
